{
  "nbformat": 4,
  "nbformat_minor": 0,
  "metadata": {
    "colab": {
      "provenance": []
    },
    "kernelspec": {
      "name": "python3",
      "display_name": "Python 3"
    },
    "language_info": {
      "name": "python"
    }
  },
  "cells": [
    {
      "cell_type": "code",
      "execution_count": 13,
      "metadata": {
        "id": "tBFVD2YusJWT"
      },
      "outputs": [],
      "source": [
        "Q1= \"Welcome to EU!\"\n",
        "Q2=Q1[11:]\n",
        "Q3=Q1[5:11]\n",
        "Q4=[\"Eric Comacho\",\"Elmer Felicitas\",\"Shankar Lucrece\",\"Gitta Nevena\",\"Rasmus Tarquinius\"]\n",
        "Q5=[7,'7','Seven',7.0]\n",
        "Q6=Q4[3:]\n",
        "Q7=Q5[1:3]\n",
        "\n",
        "\n"
      ]
    },
    {
      "cell_type": "code",
      "source": [
        "mylist= [4,8,11,3,19,2,5,8,12,9]\n",
        "Q8= mylist[:3]\n",
        "Q9= mylist[7:]\n",
        "Q10= mylist[2:6]\n",
        "Q11= mylist[5:7]\n",
        "\n",
        "\n",
        "\n",
        "\n"
      ],
      "metadata": {
        "id": "BJnOYBoXwNn4"
      },
      "execution_count": 14,
      "outputs": []
    }
  ]
}